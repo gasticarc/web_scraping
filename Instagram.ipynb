{
 "cells": [
  {
   "cell_type": "markdown",
   "metadata": {},
   "source": [
    "## Web Scraping (Selenium) - Instagram - Descargar fotos de un hashtag"
   ]
  },
  {
   "cell_type": "markdown",
   "metadata": {},
   "source": [
    "LIBRERIAS"
   ]
  },
  {
   "cell_type": "code",
   "execution_count": 15,
   "metadata": {},
   "outputs": [],
   "source": [
    "#Librerias selenium\n",
    "from webdriver_manager.chrome import ChromeDriverManager\n",
    "from selenium import webdriver\n",
    "from selenium.webdriver.chrome.service import Service\n",
    "from selenium.webdriver.chrome.options import Options\n",
    "from selenium.webdriver.common.by import By\n",
    "from selenium.webdriver.support.ui import WebDriverWait \n",
    "from selenium.webdriver.support import expected_conditions as EC \n",
    "from selenium.common.exceptions import TimeoutException \n",
    "\n",
    "import wget #Descargar archivos/imagenes\n",
    "import time\n",
    "import os #Manejar direcciones del path, creacion de carpeta"
   ]
  },
  {
   "cell_type": "markdown",
   "metadata": {},
   "source": [
    "INICIALIZACION SELENIUM Y CHROME"
   ]
  },
  {
   "cell_type": "code",
   "execution_count": 16,
   "metadata": {},
   "outputs": [],
   "source": [
    "#Iniciar Chrome con los parametros indicados\n",
    "def iniciar_chrome():\n",
    "   ruta = ChromeDriverManager(path='./chromedriver').install()\n",
    "   options = Options()\n",
    "   user_agent = \"Mozilla/5.0 (Windows NT 10.0; Win64; x64) AppleWebKit/537.36 (KHTML, like Gecko) Chrome/102.0.5005.63 Safari/537.36\"\n",
    "   \n",
    "   options.add_argument(f\"user-agent={user_agent}\")    \n",
    "   options.add_argument(\"--start-maximized\")\n",
    "   options.add_argument(\"--disable-web-security\") \n",
    "   options.add_argument(\"--disable-extensions\") \n",
    "   options.add_argument(\"--disable-notifications\") \n",
    "   options.add_argument(\"--no-first-run\") \n",
    "   options.add_argument(\"--disable-blink-features=AutomationControlled\")\n",
    "   options.add_argument(\"--incognito\")\n",
    "   #Parametros a omitir al iniciar del ChromeDriver\n",
    "   exp_opt = [\n",
    "       'enable-automation', \n",
    "       'ignore-certification-errors', \n",
    "       'enable-logging' \n",
    "   ]\n",
    "   options.add_experimental_option(\"excludeSwitches\",exp_opt)\n",
    "\n",
    "   #Parametros para definir preferencias en ChromeDriver\n",
    "   prefs ={\n",
    "       \"profile.default_content_setting_values.notificacion\" : 2, \n",
    "       \"intl.accept_languages\" : [\"es_ES\",\"es\"], \n",
    "       \"credentials_enable_service\" : False \n",
    "   }   \n",
    "   options.add_experimental_option(\"prefs\",prefs)\n",
    "   \n",
    "   s = Service(ruta)\n",
    "   driver = webdriver.Chrome(service=s, options=options)   \n",
    "   return driver"
   ]
  },
  {
   "cell_type": "markdown",
   "metadata": {},
   "source": [
    "FUNCIONES"
   ]
  },
  {
   "cell_type": "code",
   "execution_count": 17,
   "metadata": {},
   "outputs": [],
   "source": [
    "def login_instagram(user_ig, pass_ig):\n",
    "    driver.get(\"https://www.instagram.com/\")\n",
    "    #Busco textbox e ingreso usuario\n",
    "    elem = wait.until(EC.visibility_of_element_located((By.NAME,\"username\")))\n",
    "    elem.send_keys(user_ig)\n",
    "    #Busco textbox e ingreso contrsaeña\n",
    "    elem =wait.until(EC.visibility_of_element_located((By.NAME,\"password\")))\n",
    "    elem.send_keys(pass_ig)\n",
    "    #Boton Entrar\n",
    "    elem =wait.until(EC.element_to_be_clickable((By.XPATH,\"//div[contains(text(),'Entrar')]\")))\n",
    "    elem.click()    \n",
    "    #Boton Guardar informacion\n",
    "    elem =wait.until(EC.element_to_be_clickable((By.XPATH,\"//button[contains(text(),'Guardar')]\")))\n",
    "    elem.click()\n",
    "    #Busco una publicacion para ver si el logueo fue correcto\n",
    "    try:\n",
    "        elem =wait.until(EC.visibility_of_element_located((By.CSS_SELECTOR,\"article[role='presentation']\")))\n",
    "        print(\"Logueo correcto\")\n",
    "    except TimeoutException:\n",
    "        print(\"Error de logueo\")"
   ]
  },
  {
   "cell_type": "code",
   "execution_count": 22,
   "metadata": {},
   "outputs": [],
   "source": [
    "def descargar_fotos_instagram(hashtag):\n",
    "    driver.get(f\"https://www.instagram.com/explore/tags/{hashtag}\")\n",
    "    url_fotos= set() #Declaro un conjunto vacio donde se guardan los url de las fotos, se usa set porque no permite repetidos\n",
    "\n",
    "    while len(url_fotos) < 5: #defino un limite de fotos a descargar\n",
    "        #Ejecutamos script java para desplazarnos al final del documento\n",
    "        driver.execute_script(\"window,scrollTo(0, document.body.scrollHeight);\")\n",
    "        elementos = driver.find_elements(By.CSS_SELECTOR, \"div._aagv\") \n",
    "        #recorremos los cada imagen y guardamos su url       \n",
    "        for elemento in elementos:\n",
    "            try:\n",
    "                url = elemento.find_element(By.CSS_SELECTOR, \"img\").get_attribute(\"src\")                \n",
    "                url_fotos.add(url)\n",
    "            except:\n",
    "                pass\n",
    "    #Creamos una carpeta donde guardar las fotos\n",
    "    if not os.path.exists(hashtag):\n",
    "        os.mkdir(hashtag)\n",
    "    for url_foto in url_fotos:\n",
    "        wget.download(url_foto,hashtag)\n",
    "\n",
    "             "
   ]
  },
  {
   "cell_type": "markdown",
   "metadata": {},
   "source": [
    "########### MAIN ###########"
   ]
  },
  {
   "cell_type": "code",
   "execution_count": null,
   "metadata": {},
   "outputs": [],
   "source": [
    "if __name__ == '__main__':\n",
    "    \n",
    "    driver = iniciar_chrome() #iniciamos selenium     \n",
    "    wait = WebDriverWait(driver, 10) #Defino tiempo de espera maximo para cargar elementos\n",
    "    \n",
    "    #COLOCAR CREDENCIALES Y HASHTAG\n",
    "    user_ig='????????'\n",
    "    pass_ig='????????'\n",
    "    hashtag='happycat'\n",
    "\n",
    "    login_instagram(user_ig, pass_ig)\n",
    "    descargar_fotos_instagram(hashtag)       \n",
    "    driver.quit()"
   ]
  }
 ],
 "metadata": {
  "interpreter": {
   "hash": "23a1da5a01f2a60871c641a96abd5e23257ee0b90ca91317ee97bfa8d83070f5"
  },
  "kernelspec": {
   "display_name": "Python 3.10.4 64-bit",
   "language": "python",
   "name": "python3"
  },
  "language_info": {
   "codemirror_mode": {
    "name": "ipython",
    "version": 3
   },
   "file_extension": ".py",
   "mimetype": "text/x-python",
   "name": "python",
   "nbconvert_exporter": "python",
   "pygments_lexer": "ipython3",
   "version": "3.10.4"
  }
 },
 "nbformat": 4,
 "nbformat_minor": 4
}
